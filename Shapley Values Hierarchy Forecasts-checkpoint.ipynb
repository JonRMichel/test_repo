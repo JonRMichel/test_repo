{
 "cells": [
  {
   "cell_type": "code",
   "execution_count": 1,
   "metadata": {},
   "outputs": [],
   "source": [
    "import pandas as pd\n",
    "import numpy as np\n",
    "import math\n",
    "#Our default forecast will be a holts-winter, I imagine results are very sensitive to this decision!\n",
    "from statsmodels.tsa.api import ExponentialSmoothing, SimpleExpSmoothing, Holt\n",
    "\n",
    "#We will leave out test year and conduct forecasts on it\n",
    "test_year = 2015"
   ]
  },
  {
   "cell_type": "code",
   "execution_count": 2,
   "metadata": {},
   "outputs": [],
   "source": [
    "# Place holder format for data frame with multiple time series\n",
    "# time_series_df = pd.DataFrame({'time':range(0,10),\n",
    "#                               'A':np.random.normal(loc = 0, scale = 1, size = 10),\n",
    "#                               'B': np.random.normal(loc = 0, scale = 1, size = 10),\n",
    "#                              'C':np.random.normal(loc = 0, scale = 1, size = 10)}).set_index('time')\n",
    "\n",
    "#Read in actual data\n",
    "time_series_df = (pd.read_csv('C:/Users/Jon/Downloads/data downloads/suicide-rates-overview-1985-to-2016/master.csv'))\n",
    "\n",
    "#Select only country, year, and suicide count, then aggregate\n",
    "time_series_df = time_series_df[['country','year','suicides_no']] . groupby(['country','year']).sum().reset_index()\n",
    "\n",
    "#pivot into wide format, each column will be a country\n",
    "time_series_df = pd.pivot_table(time_series_df, columns = 'country', index='year',values = 'suicides_no')\n",
    "\n",
    "#Fill in NAs as 0\n",
    "time_series_df = time_series_df.fillna(0)\n",
    "\n",
    "#Select only a subset of countries for speed (shapley grows very slow in subsets due to power set calculations!)\n",
    "time_series_df = time_series_df[['Argentina','Australia', 'Japan','Republic of Korea', 'United States']]\n",
    "\n",
    "#Remove 2016, it is all 0s for some reason\n",
    "time_series_df = time_series_df.loc[:2015]\n",
    "\n",
    "true_values = time_series_df.loc[test_year].values\n",
    "\n",
    "#Leave out a after year test_year to see which does better!\n",
    "time_series_df = time_series_df.loc[:test_year-1]"
   ]
  },
  {
   "cell_type": "code",
   "execution_count": 3,
   "metadata": {},
   "outputs": [
    {
     "data": {
      "text/html": [
       "<div>\n",
       "<style scoped>\n",
       "    .dataframe tbody tr th:only-of-type {\n",
       "        vertical-align: middle;\n",
       "    }\n",
       "\n",
       "    .dataframe tbody tr th {\n",
       "        vertical-align: top;\n",
       "    }\n",
       "\n",
       "    .dataframe thead th {\n",
       "        text-align: right;\n",
       "    }\n",
       "</style>\n",
       "<table border=\"1\" class=\"dataframe\">\n",
       "  <thead>\n",
       "    <tr style=\"text-align: right;\">\n",
       "      <th>country</th>\n",
       "      <th>Argentina</th>\n",
       "      <th>Australia</th>\n",
       "      <th>Japan</th>\n",
       "      <th>Republic of Korea</th>\n",
       "      <th>United States</th>\n",
       "    </tr>\n",
       "    <tr>\n",
       "      <th>year</th>\n",
       "      <th></th>\n",
       "      <th></th>\n",
       "      <th></th>\n",
       "      <th></th>\n",
       "      <th></th>\n",
       "    </tr>\n",
       "  </thead>\n",
       "  <tbody>\n",
       "    <tr>\n",
       "      <th>2010</th>\n",
       "      <td>2943.0</td>\n",
       "      <td>2420.0</td>\n",
       "      <td>29411.0</td>\n",
       "      <td>15558.0</td>\n",
       "      <td>38362.0</td>\n",
       "    </tr>\n",
       "    <tr>\n",
       "      <th>2011</th>\n",
       "      <td>2912.0</td>\n",
       "      <td>2392.0</td>\n",
       "      <td>28766.0</td>\n",
       "      <td>15906.0</td>\n",
       "      <td>39508.0</td>\n",
       "    </tr>\n",
       "    <tr>\n",
       "      <th>2012</th>\n",
       "      <td>3248.0</td>\n",
       "      <td>2580.0</td>\n",
       "      <td>26338.0</td>\n",
       "      <td>14159.0</td>\n",
       "      <td>40596.0</td>\n",
       "    </tr>\n",
       "    <tr>\n",
       "      <th>2013</th>\n",
       "      <td>2987.0</td>\n",
       "      <td>2608.0</td>\n",
       "      <td>25991.0</td>\n",
       "      <td>14426.0</td>\n",
       "      <td>41143.0</td>\n",
       "    </tr>\n",
       "    <tr>\n",
       "      <th>2014</th>\n",
       "      <td>3231.0</td>\n",
       "      <td>2891.0</td>\n",
       "      <td>24357.0</td>\n",
       "      <td>13834.0</td>\n",
       "      <td>42769.0</td>\n",
       "    </tr>\n",
       "  </tbody>\n",
       "</table>\n",
       "</div>"
      ],
      "text/plain": [
       "country  Argentina  Australia    Japan  Republic of Korea  United States\n",
       "year                                                                    \n",
       "2010        2943.0     2420.0  29411.0            15558.0        38362.0\n",
       "2011        2912.0     2392.0  28766.0            15906.0        39508.0\n",
       "2012        3248.0     2580.0  26338.0            14159.0        40596.0\n",
       "2013        2987.0     2608.0  25991.0            14426.0        41143.0\n",
       "2014        3231.0     2891.0  24357.0            13834.0        42769.0"
      ]
     },
     "execution_count": 3,
     "metadata": {},
     "output_type": "execute_result"
    }
   ],
   "source": [
    "#Look at data for format\n",
    "time_series_df.tail()"
   ]
  },
  {
   "cell_type": "code",
   "execution_count": 4,
   "metadata": {},
   "outputs": [
    {
     "data": {
      "text/plain": [
       "<matplotlib.axes._subplots.AxesSubplot at 0x4aab26320>"
      ]
     },
     "execution_count": 4,
     "metadata": {},
     "output_type": "execute_result"
    }
   ],
   "source": [
    "time_series_df.plot()"
   ]
  },
  {
   "cell_type": "code",
   "execution_count": 5,
   "metadata": {},
   "outputs": [
    {
     "name": "stdout",
     "output_type": "stream",
     "text": [
      "['Argentina', 'Australia', 'Japan', 'Republic of Korea', 'United States'] [1985 1986 1987 1988 1989 1990 1991 1992 1993 1994 1995 1996 1997 1998\n",
      " 1999 2000 2001 2002 2003 2004 2005 2006 2007 2008 2009 2010 2011 2012\n",
      " 2013 2014]\n"
     ]
    }
   ],
   "source": [
    "#Generate a list of column names and also times\n",
    "ts_names = list(time_series_df.columns)\n",
    "\n",
    "# time_list = time_series_df.reset_index()['time'].unique()\n",
    "time_list = time_series_df.reset_index()['year'].unique()\n",
    "time_list.sort\n",
    "\n",
    "print( ts_names, time_list)"
   ]
  },
  {
   "cell_type": "code",
   "execution_count": 6,
   "metadata": {},
   "outputs": [],
   "source": [
    "#Define powerset function to iterate over later\n",
    "def powerset(s):\n",
    "    x = len(s)\n",
    "    masks = [1 << i for i in range(x)]\n",
    "    for i in range(1 << x):\n",
    "        yield [ss for mask, ss in zip(masks, s) if i & mask]"
   ]
  },
  {
   "cell_type": "code",
   "execution_count": 7,
   "metadata": {},
   "outputs": [
    {
     "name": "stderr",
     "output_type": "stream",
     "text": [
      "C:\\Users\\Jon\\Anaconda3\\lib\\site-packages\\statsmodels\\tsa\\holtwinters.py:734: RuntimeWarning: divide by zero encountered in log\n",
      "  aic = self.nobs * np.log(sse / self.nobs) + (k) * 2\n",
      "C:\\Users\\Jon\\Anaconda3\\lib\\site-packages\\statsmodels\\tsa\\holtwinters.py:736: RuntimeWarning: divide by zero encountered in log\n",
      "  bic = self.nobs * np.log(sse / self.nobs) + (k) * np.log(self.nobs)\n"
     ]
    },
    {
     "data": {
      "text/html": [
       "<div>\n",
       "<style scoped>\n",
       "    .dataframe tbody tr th:only-of-type {\n",
       "        vertical-align: middle;\n",
       "    }\n",
       "\n",
       "    .dataframe tbody tr th {\n",
       "        vertical-align: top;\n",
       "    }\n",
       "\n",
       "    .dataframe thead th {\n",
       "        text-align: right;\n",
       "    }\n",
       "</style>\n",
       "<table border=\"1\" class=\"dataframe\">\n",
       "  <thead>\n",
       "    <tr style=\"text-align: right;\">\n",
       "      <th></th>\n",
       "      <th>value</th>\n",
       "    </tr>\n",
       "  </thead>\n",
       "  <tbody>\n",
       "    <tr>\n",
       "      <th>empty</th>\n",
       "      <td>0.000000</td>\n",
       "    </tr>\n",
       "    <tr>\n",
       "      <th>Argentinaempty</th>\n",
       "      <td>3256.318198</td>\n",
       "    </tr>\n",
       "    <tr>\n",
       "      <th>Australiaempty</th>\n",
       "      <td>2382.318727</td>\n",
       "    </tr>\n",
       "    <tr>\n",
       "      <th>ArgentinaAustraliaempty</th>\n",
       "      <td>5919.722327</td>\n",
       "    </tr>\n",
       "    <tr>\n",
       "      <th>Japanempty</th>\n",
       "      <td>24394.934307</td>\n",
       "    </tr>\n",
       "    <tr>\n",
       "      <th>ArgentinaJapanempty</th>\n",
       "      <td>27668.782870</td>\n",
       "    </tr>\n",
       "    <tr>\n",
       "      <th>AustraliaJapanempty</th>\n",
       "      <td>27490.921932</td>\n",
       "    </tr>\n",
       "    <tr>\n",
       "      <th>ArgentinaAustraliaJapanempty</th>\n",
       "      <td>30787.625116</td>\n",
       "    </tr>\n",
       "    <tr>\n",
       "      <th>Republic of Koreaempty</th>\n",
       "      <td>14183.823747</td>\n",
       "    </tr>\n",
       "    <tr>\n",
       "      <th>ArgentinaRepublic of Koreaempty</th>\n",
       "      <td>17457.722185</td>\n",
       "    </tr>\n",
       "    <tr>\n",
       "      <th>AustraliaRepublic of Koreaempty</th>\n",
       "      <td>17098.877452</td>\n",
       "    </tr>\n",
       "    <tr>\n",
       "      <th>ArgentinaAustraliaRepublic of Koreaempty</th>\n",
       "      <td>20384.212453</td>\n",
       "    </tr>\n",
       "    <tr>\n",
       "      <th>JapanRepublic of Koreaempty</th>\n",
       "      <td>38591.972423</td>\n",
       "    </tr>\n",
       "    <tr>\n",
       "      <th>ArgentinaJapanRepublic of Koreaempty</th>\n",
       "      <td>41856.610973</td>\n",
       "    </tr>\n",
       "    <tr>\n",
       "      <th>AustraliaJapanRepublic of Koreaempty</th>\n",
       "      <td>41505.351337</td>\n",
       "    </tr>\n",
       "    <tr>\n",
       "      <th>ArgentinaAustraliaJapanRepublic of Koreaempty</th>\n",
       "      <td>44779.159930</td>\n",
       "    </tr>\n",
       "    <tr>\n",
       "      <th>United Statesempty</th>\n",
       "      <td>43929.997283</td>\n",
       "    </tr>\n",
       "    <tr>\n",
       "      <th>ArgentinaUnited Statesempty</th>\n",
       "      <td>47211.946624</td>\n",
       "    </tr>\n",
       "    <tr>\n",
       "      <th>AustraliaUnited Statesempty</th>\n",
       "      <td>46758.142579</td>\n",
       "    </tr>\n",
       "    <tr>\n",
       "      <th>ArgentinaAustraliaUnited Statesempty</th>\n",
       "      <td>49986.063319</td>\n",
       "    </tr>\n",
       "    <tr>\n",
       "      <th>JapanUnited Statesempty</th>\n",
       "      <td>67663.777322</td>\n",
       "    </tr>\n",
       "    <tr>\n",
       "      <th>ArgentinaJapanUnited Statesempty</th>\n",
       "      <td>70921.922883</td>\n",
       "    </tr>\n",
       "    <tr>\n",
       "      <th>AustraliaJapanUnited Statesempty</th>\n",
       "      <td>70790.079766</td>\n",
       "    </tr>\n",
       "    <tr>\n",
       "      <th>ArgentinaAustraliaJapanUnited Statesempty</th>\n",
       "      <td>74070.306900</td>\n",
       "    </tr>\n",
       "    <tr>\n",
       "      <th>Republic of KoreaUnited Statesempty</th>\n",
       "      <td>57412.255106</td>\n",
       "    </tr>\n",
       "    <tr>\n",
       "      <th>ArgentinaRepublic of KoreaUnited Statesempty</th>\n",
       "      <td>60686.106383</td>\n",
       "    </tr>\n",
       "    <tr>\n",
       "      <th>AustraliaRepublic of KoreaUnited Statesempty</th>\n",
       "      <td>60335.450269</td>\n",
       "    </tr>\n",
       "    <tr>\n",
       "      <th>ArgentinaAustraliaRepublic of KoreaUnited Statesempty</th>\n",
       "      <td>63627.624172</td>\n",
       "    </tr>\n",
       "    <tr>\n",
       "      <th>JapanRepublic of KoreaUnited Statesempty</th>\n",
       "      <td>81921.753560</td>\n",
       "    </tr>\n",
       "    <tr>\n",
       "      <th>ArgentinaJapanRepublic of KoreaUnited Statesempty</th>\n",
       "      <td>85180.482577</td>\n",
       "    </tr>\n",
       "    <tr>\n",
       "      <th>AustraliaJapanRepublic of KoreaUnited Statesempty</th>\n",
       "      <td>84891.039369</td>\n",
       "    </tr>\n",
       "    <tr>\n",
       "      <th>ArgentinaAustraliaJapanRepublic of KoreaUnited Statesempty</th>\n",
       "      <td>88036.868395</td>\n",
       "    </tr>\n",
       "  </tbody>\n",
       "</table>\n",
       "</div>"
      ],
      "text/plain": [
       "                                                           value\n",
       "empty                                                   0.000000\n",
       "Argentinaempty                                       3256.318198\n",
       "Australiaempty                                       2382.318727\n",
       "ArgentinaAustraliaempty                              5919.722327\n",
       "Japanempty                                          24394.934307\n",
       "ArgentinaJapanempty                                 27668.782870\n",
       "AustraliaJapanempty                                 27490.921932\n",
       "ArgentinaAustraliaJapanempty                        30787.625116\n",
       "Republic of Koreaempty                              14183.823747\n",
       "ArgentinaRepublic of Koreaempty                     17457.722185\n",
       "AustraliaRepublic of Koreaempty                     17098.877452\n",
       "ArgentinaAustraliaRepublic of Koreaempty            20384.212453\n",
       "JapanRepublic of Koreaempty                         38591.972423\n",
       "ArgentinaJapanRepublic of Koreaempty                41856.610973\n",
       "AustraliaJapanRepublic of Koreaempty                41505.351337\n",
       "ArgentinaAustraliaJapanRepublic of Koreaempty       44779.159930\n",
       "United Statesempty                                  43929.997283\n",
       "ArgentinaUnited Statesempty                         47211.946624\n",
       "AustraliaUnited Statesempty                         46758.142579\n",
       "ArgentinaAustraliaUnited Statesempty                49986.063319\n",
       "JapanUnited Statesempty                             67663.777322\n",
       "ArgentinaJapanUnited Statesempty                    70921.922883\n",
       "AustraliaJapanUnited Statesempty                    70790.079766\n",
       "ArgentinaAustraliaJapanUnited Statesempty           74070.306900\n",
       "Republic of KoreaUnited Statesempty                 57412.255106\n",
       "ArgentinaRepublic of KoreaUnited Statesempty        60686.106383\n",
       "AustraliaRepublic of KoreaUnited Statesempty        60335.450269\n",
       "ArgentinaAustraliaRepublic of KoreaUnited State...  63627.624172\n",
       "JapanRepublic of KoreaUnited Statesempty            81921.753560\n",
       "ArgentinaJapanRepublic of KoreaUnited Statesempty   85180.482577\n",
       "AustraliaJapanRepublic of KoreaUnited Statesempty   84891.039369\n",
       "ArgentinaAustraliaJapanRepublic of KoreaUnited ...  88036.868395"
      ]
     },
     "execution_count": 7,
     "metadata": {},
     "output_type": "execute_result"
    }
   ],
   "source": [
    "#Generate the forecast for each subset of the time series, along the way we use an 'empty' column of all 0s to represent none\n",
    "subset_df = pd.DataFrame(columns = ['value'])\n",
    "time_series_df['empty']=0\n",
    "\n",
    "for subset in list(powerset(ts_names)):\n",
    "    subset.append('empty')\n",
    "    subset = sorted(subset)\n",
    "    \n",
    "    time_series_df['aggregate'] =  time_series_df[subset].sum(axis = 1)\n",
    "    ts_values = time_series_df['aggregate'].values\n",
    "    holt_forecast = Holt(ts_values).fit()\n",
    "    \n",
    "    forecasted_value = holt_forecast.forecast(1)[0]\n",
    "    subset_df.loc[''.join(subset),'value'] = forecasted_value\n",
    "    \n",
    "#     subset_df.loc[''.join(subset),'value']= time_series_df['aggregate'].mean()\n",
    "    \n",
    "subset_df"
   ]
  },
  {
   "cell_type": "code",
   "execution_count": 8,
   "metadata": {},
   "outputs": [],
   "source": [
    "def shapley_value_col(col):\n",
    "    value = 0\n",
    "    names_excluding_one = ts_names.copy()\n",
    "    names_excluding_one.remove(col)\n",
    "    names_excluding_one\n",
    "\n",
    "    subsets_without = list(powerset(names_excluding_one))\n",
    "\n",
    "    for subset in subsets_without:\n",
    "        subset.append('empty')\n",
    "\n",
    "        subset_with = subset.copy()\n",
    "        subset_with.append(col)\n",
    "\n",
    "        subset = sorted(subset)\n",
    "        subset_with = sorted(subset_with)\n",
    "        shapley_factor = (math.factorial(len(subset) - 1) * math.factorial(len(ts_names) - len(subset)) / math.factorial(len(ts_names)))\n",
    "\n",
    "        value = value + shapley_factor * (subset_df.loc[''.join(subset_with),'value'] - subset_df.loc[''.join(subset),'value'] )\n",
    "    \n",
    "\n",
    "    return value"
   ]
  },
  {
   "cell_type": "code",
   "execution_count": 9,
   "metadata": {},
   "outputs": [],
   "source": [
    "forecast_testing_df = pd.DataFrame(columns = ts_names)\n",
    "\n",
    "forecast_testing_df.loc['actual'] = true_values"
   ]
  },
  {
   "cell_type": "code",
   "execution_count": 10,
   "metadata": {},
   "outputs": [
    {
     "name": "stdout",
     "output_type": "stream",
     "text": [
      "Argentina 3257.5845180567503\n",
      "Australia 2814.7014661055896\n",
      "Japan 24384.59926533563\n",
      "Republic of Korea 14058.777106383697\n",
      "United States 43521.20603879353\n"
     ]
    }
   ],
   "source": [
    "for col in ts_names:\n",
    "    print(col, shapley_value_col(col))\n",
    "    forecast_testing_df.loc['shapley',col] = shapley_value_col(col)"
   ]
  },
  {
   "cell_type": "code",
   "execution_count": 11,
   "metadata": {
    "scrolled": true
   },
   "outputs": [],
   "source": [
    "#Generate the \"top down\" forecast using proportion allocation\n",
    "proportion_df = time_series_df.copy()\n",
    "proportion_df = proportion_df[ts_names]\n",
    "\n",
    "all_names = ts_names.copy()\n",
    "all_names.append('empty')\n",
    "\n",
    "total_forecast = subset_df.loc[''.join(all_names), 'value']\n",
    "\n",
    "proportion_df = proportion_df.div(proportion_df.sum(axis=1), axis=0)\n",
    "\n",
    "forecast_testing_df.loc['proportional'] = total_forecast * proportion_df.loc[max(time_list)].values"
   ]
  },
  {
   "cell_type": "code",
   "execution_count": 12,
   "metadata": {},
   "outputs": [
    {
     "data": {
      "text/html": [
       "<div>\n",
       "<style scoped>\n",
       "    .dataframe tbody tr th:only-of-type {\n",
       "        vertical-align: middle;\n",
       "    }\n",
       "\n",
       "    .dataframe tbody tr th {\n",
       "        vertical-align: top;\n",
       "    }\n",
       "\n",
       "    .dataframe thead th {\n",
       "        text-align: right;\n",
       "    }\n",
       "</style>\n",
       "<table border=\"1\" class=\"dataframe\">\n",
       "  <thead>\n",
       "    <tr style=\"text-align: right;\">\n",
       "      <th></th>\n",
       "      <th>Argentina</th>\n",
       "      <th>Australia</th>\n",
       "      <th>Japan</th>\n",
       "      <th>Republic of Korea</th>\n",
       "      <th>United States</th>\n",
       "    </tr>\n",
       "  </thead>\n",
       "  <tbody>\n",
       "    <tr>\n",
       "      <th>actual</th>\n",
       "      <td>3073.000000</td>\n",
       "      <td>3027.000000</td>\n",
       "      <td>23092.000000</td>\n",
       "      <td>13510.000000</td>\n",
       "      <td>44189.000000</td>\n",
       "    </tr>\n",
       "    <tr>\n",
       "      <th>shapley</th>\n",
       "      <td>3257.584518</td>\n",
       "      <td>2814.701466</td>\n",
       "      <td>24384.599265</td>\n",
       "      <td>14058.777106</td>\n",
       "      <td>43521.206039</td>\n",
       "    </tr>\n",
       "    <tr>\n",
       "      <th>proportional</th>\n",
       "      <td>3266.428444</td>\n",
       "      <td>2922.700289</td>\n",
       "      <td>24624.078495</td>\n",
       "      <td>13985.692076</td>\n",
       "      <td>43237.969091</td>\n",
       "    </tr>\n",
       "  </tbody>\n",
       "</table>\n",
       "</div>"
      ],
      "text/plain": [
       "                Argentina    Australia         Japan  Republic of Korea  \\\n",
       "actual        3073.000000  3027.000000  23092.000000       13510.000000   \n",
       "shapley       3257.584518  2814.701466  24384.599265       14058.777106   \n",
       "proportional  3266.428444  2922.700289  24624.078495       13985.692076   \n",
       "\n",
       "              United States  \n",
       "actual         44189.000000  \n",
       "shapley        43521.206039  \n",
       "proportional   43237.969091  "
      ]
     },
     "execution_count": 12,
     "metadata": {},
     "output_type": "execute_result"
    }
   ],
   "source": [
    "forecast_testing_df"
   ]
  },
  {
   "cell_type": "code",
   "execution_count": 13,
   "metadata": {},
   "outputs": [
    {
     "name": "stdout",
     "output_type": "stream",
     "text": [
      "2497060.0596608645\n"
     ]
    },
    {
     "data": {
      "text/plain": [
       "Argentina             184.584518\n",
       "Australia            -212.298534\n",
       "Japan                1292.599265\n",
       "Republic of Korea     548.777106\n",
       "United States        -667.793961\n",
       "dtype: float64"
      ]
     },
     "execution_count": 13,
     "metadata": {},
     "output_type": "execute_result"
    }
   ],
   "source": [
    "print(sum(np.square(forecast_testing_df.loc['shapley'] - forecast_testing_df.loc['actual'])))\n",
    "\n",
    "forecast_testing_df.loc['shapley'] - forecast_testing_df.loc['actual']"
   ]
  },
  {
   "cell_type": "code",
   "execution_count": 14,
   "metadata": {},
   "outputs": [
    {
     "name": "stdout",
     "output_type": "stream",
     "text": [
      "3526300.248636648\n"
     ]
    },
    {
     "data": {
      "text/plain": [
       "Argentina             193.428444\n",
       "Australia            -104.299711\n",
       "Japan                1532.078495\n",
       "Republic of Korea     475.692076\n",
       "United States        -951.030909\n",
       "dtype: float64"
      ]
     },
     "execution_count": 14,
     "metadata": {},
     "output_type": "execute_result"
    }
   ],
   "source": [
    "print(sum(np.square(forecast_testing_df.loc['proportional'] - forecast_testing_df.loc['actual'])))\n",
    "\n",
    "forecast_testing_df.loc['proportional'] - forecast_testing_df.loc['actual']"
   ]
  },
  {
   "cell_type": "code",
   "execution_count": 15,
   "metadata": {},
   "outputs": [
    {
     "data": {
      "text/plain": [
       "actual          86891.000000\n",
       "shapley         88036.868395\n",
       "proportional    88036.868395\n",
       "dtype: float64"
      ]
     },
     "execution_count": 15,
     "metadata": {},
     "output_type": "execute_result"
    }
   ],
   "source": [
    "forecast_testing_df.sum(axis = 1)"
   ]
  },
  {
   "cell_type": "code",
   "execution_count": 16,
   "metadata": {},
   "outputs": [],
   "source": [
    "# (pd.read_csv('C:/Users/Jon/Downloads/data downloads/suicide-rates-overview-1985-to-2016/master.csv'))['country'].unique()"
   ]
  },
  {
   "cell_type": "code",
   "execution_count": null,
   "metadata": {},
   "outputs": [],
   "source": []
  },
  {
   "cell_type": "code",
   "execution_count": null,
   "metadata": {},
   "outputs": [],
   "source": []
  }
 ],
 "metadata": {
  "kernelspec": {
   "display_name": "Python 3",
   "language": "python",
   "name": "python3"
  },
  "language_info": {
   "codemirror_mode": {
    "name": "ipython",
    "version": 3
   },
   "file_extension": ".py",
   "mimetype": "text/x-python",
   "name": "python",
   "nbconvert_exporter": "python",
   "pygments_lexer": "ipython3",
   "version": "3.6.5"
  }
 },
 "nbformat": 4,
 "nbformat_minor": 2
}
